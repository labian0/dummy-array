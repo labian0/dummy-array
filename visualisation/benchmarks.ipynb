{
 "cells": [
  {
   "cell_type": "code",
   "execution_count": 8,
   "metadata": {},
   "outputs": [
    {
     "ename": "OSError",
     "evalue": "dummyarray_rust.so: cannot open shared object file: No such file or directory",
     "output_type": "error",
     "traceback": [
      "\u001b[0;31m---------------------------------------------------------------------------\u001b[0m",
      "\u001b[0;31mOSError\u001b[0m                                   Traceback (most recent call last)",
      "\u001b[1;32m/home/ant/codeproj/dummy-array/visualisation/benchmarks.ipynb Cell 1\u001b[0m line \u001b[0;36m5\n\u001b[1;32m      <a href='vscode-notebook-cell:/home/ant/codeproj/dummy-array/visualisation/benchmarks.ipynb#W0sZmlsZQ%3D%3D?line=1'>2</a>\u001b[0m \u001b[39mimport\u001b[39;00m \u001b[39mnumpy\u001b[39;00m \u001b[39mas\u001b[39;00m \u001b[39mnp\u001b[39;00m\n\u001b[1;32m      <a href='vscode-notebook-cell:/home/ant/codeproj/dummy-array/visualisation/benchmarks.ipynb#W0sZmlsZQ%3D%3D?line=2'>3</a>\u001b[0m \u001b[39mimport\u001b[39;00m \u001b[39mwrapper\u001b[39;00m\n\u001b[0;32m----> <a href='vscode-notebook-cell:/home/ant/codeproj/dummy-array/visualisation/benchmarks.ipynb#W0sZmlsZQ%3D%3D?line=4'>5</a>\u001b[0m rust_impl:wrapper\u001b[39m.\u001b[39mLibrary \u001b[39m=\u001b[39m wrapper\u001b[39m.\u001b[39;49mLibrary(\u001b[39m\"\u001b[39;49m\u001b[39mdummyarray_rust.so\u001b[39;49m\u001b[39m\"\u001b[39;49m)\n\u001b[1;32m      <a href='vscode-notebook-cell:/home/ant/codeproj/dummy-array/visualisation/benchmarks.ipynb#W0sZmlsZQ%3D%3D?line=5'>6</a>\u001b[0m go_impl:wrapper\u001b[39m.\u001b[39mLibrary \u001b[39m=\u001b[39m wrapper\u001b[39m.\u001b[39mLibrary(\u001b[39m\"\u001b[39m\u001b[39mdummyarray_go.so\u001b[39m\u001b[39m\"\u001b[39m)\n\u001b[1;32m      <a href='vscode-notebook-cell:/home/ant/codeproj/dummy-array/visualisation/benchmarks.ipynb#W0sZmlsZQ%3D%3D?line=7'>8</a>\u001b[0m \u001b[39m# Sample data\u001b[39;00m\n",
      "File \u001b[0;32m~/codeproj/dummy-array/visualisation/wrapper.py:5\u001b[0m, in \u001b[0;36mLibrary.__init__\u001b[0;34m(self, library_name)\u001b[0m\n\u001b[1;32m      4\u001b[0m \u001b[39mdef\u001b[39;00m \u001b[39m__init__\u001b[39m(\u001b[39mself\u001b[39m, library_name:\u001b[39mstr\u001b[39m):\n\u001b[0;32m----> 5\u001b[0m     \u001b[39mself\u001b[39m\u001b[39m.\u001b[39mlib \u001b[39m=\u001b[39m ctypes\u001b[39m.\u001b[39;49mcdll\u001b[39m.\u001b[39;49mLoadLibrary(library_name)\n\u001b[1;32m      6\u001b[0m     \u001b[39mtry\u001b[39;00m:\n\u001b[1;32m      7\u001b[0m         \u001b[39mself\u001b[39m\u001b[39m.\u001b[39mlib\u001b[39m.\u001b[39mbenchmark_initialize\n",
      "File \u001b[0;32m/usr/lib/python3.12/ctypes/__init__.py:460\u001b[0m, in \u001b[0;36mLibraryLoader.LoadLibrary\u001b[0;34m(self, name)\u001b[0m\n\u001b[1;32m    459\u001b[0m \u001b[39mdef\u001b[39;00m \u001b[39mLoadLibrary\u001b[39m(\u001b[39mself\u001b[39m, name):\n\u001b[0;32m--> 460\u001b[0m     \u001b[39mreturn\u001b[39;00m \u001b[39mself\u001b[39;49m\u001b[39m.\u001b[39;49m_dlltype(name)\n",
      "File \u001b[0;32m/usr/lib/python3.12/ctypes/__init__.py:379\u001b[0m, in \u001b[0;36mCDLL.__init__\u001b[0;34m(self, name, mode, handle, use_errno, use_last_error, winmode)\u001b[0m\n\u001b[1;32m    376\u001b[0m \u001b[39mself\u001b[39m\u001b[39m.\u001b[39m_FuncPtr \u001b[39m=\u001b[39m _FuncPtr\n\u001b[1;32m    378\u001b[0m \u001b[39mif\u001b[39;00m handle \u001b[39mis\u001b[39;00m \u001b[39mNone\u001b[39;00m:\n\u001b[0;32m--> 379\u001b[0m     \u001b[39mself\u001b[39m\u001b[39m.\u001b[39m_handle \u001b[39m=\u001b[39m _dlopen(\u001b[39mself\u001b[39;49m\u001b[39m.\u001b[39;49m_name, mode)\n\u001b[1;32m    380\u001b[0m \u001b[39melse\u001b[39;00m:\n\u001b[1;32m    381\u001b[0m     \u001b[39mself\u001b[39m\u001b[39m.\u001b[39m_handle \u001b[39m=\u001b[39m handle\n",
      "\u001b[0;31mOSError\u001b[0m: dummyarray_rust.so: cannot open shared object file: No such file or directory"
     ]
    }
   ],
   "source": [
    "import matplotlib.pyplot as plt\n",
    "import numpy as np\n",
    "import wrapper\n",
    "\n",
    "CAPACITY = 1000000\n",
    "REPETITIONS = 1000\n",
    "\n",
    "# rust_impl:wrapper.Library = wrapper.Library(\"dummyarray_rust.so\")\n",
    "go_impl:wrapper.Library = wrapper.Library(\"dummyarray_go.so\")\n",
    "\n",
    "# Sample data\n",
    "benchmarks = ['Benchmark Initialize', 'Benchmark Add', 'Benchmark Remove', 'Benchmark Exists']\n",
    "valuesGo = [go_impl.benchmark_initialize(CAPACITY,REPETITIONS),\n",
    "            go_impl.benchmark_add(CAPACITY,REPETITIONS),\n",
    "            go_impl.benchmark_remove(CAPACITY,REPETITIONS),\n",
    "            go_impl.benchmark_exists(CAPACITY,REPETITIONS)]  # Values for the first benchmark\n",
    "valuesRust = [0,0,0,0]  # Values for the second benchmark\n",
    "\n",
    "# Define the positions for the bars\n",
    "y_pos = np.arange(len(benchmarks))\n",
    "\n",
    "# Create a horizontal bar chart\n",
    "plt.barh(y_pos - 0.2, valuesGo, height=0.4, label='Benchmark 1', color='blue')\n",
    "plt.barh(y_pos + 0.2, valuesRust, height=0.4, label='Benchmark 2', color='orange')\n",
    "\n",
    "# Add labels and title\n",
    "plt.yticks(y_pos, benchmarks)\n",
    "plt.xlabel('Score')\n",
    "plt.title('Comparison of Two Benchmarks')\n",
    "plt.legend()\n",
    "\n",
    "# Show the plot\n",
    "plt.show()\n"
   ]
  }
 ],
 "metadata": {
  "kernelspec": {
   "display_name": "venv",
   "language": "python",
   "name": "python3"
  },
  "language_info": {
   "codemirror_mode": {
    "name": "ipython",
    "version": 3
   },
   "file_extension": ".py",
   "mimetype": "text/x-python",
   "name": "python",
   "nbconvert_exporter": "python",
   "pygments_lexer": "ipython3",
   "version": "3.12.3"
  }
 },
 "nbformat": 4,
 "nbformat_minor": 2
}
